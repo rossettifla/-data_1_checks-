{
 "cells": [
  {
   "cell_type": "code",
   "execution_count": 35,
   "metadata": {},
   "outputs": [],
   "source": [
    "import pandas as pd\n",
    "import numpy as np\n",
    "import requests\n",
    "import json\n",
    "from urllib import response"
   ]
  },
  {
   "cell_type": "code",
   "execution_count": 36,
   "metadata": {},
   "outputs": [],
   "source": [
    "url = 'https://datausa.io/api/data?drilldowns=Nation&measures=Population'"
   ]
  },
  {
   "cell_type": "code",
   "execution_count": 37,
   "metadata": {},
   "outputs": [],
   "source": [
    "response = requests.get(url)"
   ]
  },
  {
   "cell_type": "code",
   "execution_count": 38,
   "metadata": {},
   "outputs": [
    {
     "name": "stdout",
     "output_type": "stream",
     "text": [
      "{'data': [{'ID Nation': '01000US', 'Nation': 'United States', 'ID Year': 2020, 'Year': '2020', 'Population': 326569308, 'Slug Nation': 'united-states'}, {'ID Nation': '01000US', 'Nation': 'United States', 'ID Year': 2019, 'Year': '2019', 'Population': 324697795, 'Slug Nation': 'united-states'}, {'ID Nation': '01000US', 'Nation': 'United States', 'ID Year': 2018, 'Year': '2018', 'Population': 322903030, 'Slug Nation': 'united-states'}, {'ID Nation': '01000US', 'Nation': 'United States', 'ID Year': 2017, 'Year': '2017', 'Population': 321004407, 'Slug Nation': 'united-states'}, {'ID Nation': '01000US', 'Nation': 'United States', 'ID Year': 2016, 'Year': '2016', 'Population': 318558162, 'Slug Nation': 'united-states'}, {'ID Nation': '01000US', 'Nation': 'United States', 'ID Year': 2015, 'Year': '2015', 'Population': 316515021, 'Slug Nation': 'united-states'}, {'ID Nation': '01000US', 'Nation': 'United States', 'ID Year': 2014, 'Year': '2014', 'Population': 314107084, 'Slug Nation': 'united-states'}, {'ID Nation': '01000US', 'Nation': 'United States', 'ID Year': 2013, 'Year': '2013', 'Population': 311536594, 'Slug Nation': 'united-states'}], 'source': [{'measures': ['Population'], 'annotations': {'source_name': 'Census Bureau', 'source_description': 'The American Community Survey (ACS) is conducted by the US Census and sent to a portion of the population every year.', 'dataset_name': 'ACS 5-year Estimate', 'dataset_link': 'http://www.census.gov/programs-surveys/acs/', 'table_id': 'B01003', 'topic': 'Diversity', 'subtopic': 'Demographics'}, 'name': 'acs_yg_total_population_5', 'substitutions': []}]}\n"
     ]
    }
   ],
   "source": [
    "json = response.json()\n",
    "print(json)"
   ]
  },
  {
   "cell_type": "code",
   "execution_count": 39,
   "metadata": {},
   "outputs": [
    {
     "name": "stdout",
     "output_type": "stream",
     "text": [
      "  ID Nation         Nation  ID Year  Year  Population    Slug Nation\n",
      "0   01000US  United States     2020  2020   326569308  united-states\n",
      "1   01000US  United States     2019  2019   324697795  united-states\n",
      "2   01000US  United States     2018  2018   322903030  united-states\n",
      "3   01000US  United States     2017  2017   321004407  united-states\n",
      "4   01000US  United States     2016  2016   318558162  united-states\n",
      "5   01000US  United States     2015  2015   316515021  united-states\n",
      "6   01000US  United States     2014  2014   314107084  united-states\n",
      "7   01000US  United States     2013  2013   311536594  united-states\n"
     ]
    }
   ],
   "source": [
    "df = pd.DataFrame(json['data'])\n",
    "print(df)"
   ]
  },
  {
   "cell_type": "code",
   "execution_count": 40,
   "metadata": {},
   "outputs": [
    {
     "name": "stdout",
     "output_type": "stream",
     "text": [
      "319486425.125\n"
     ]
    }
   ],
   "source": [
    "# average of population\n",
    "\n",
    "population_mean = df['Population'].mean()\n",
    "print(population_mean)"
   ]
  },
  {
   "cell_type": "code",
   "execution_count": 41,
   "metadata": {},
   "outputs": [
    {
     "name": "stdout",
     "output_type": "stream",
     "text": [
      "   Year  Population\n",
      "0  2020   326569308\n",
      "1  2019   324697795\n",
      "2  2018   322903030\n",
      "3  2017   321004407\n",
      "4  2016   318558162\n",
      "5  2015   316515021\n",
      "6  2014   314107084\n",
      "7  2013   311536594\n"
     ]
    }
   ],
   "source": [
    "# printing column year and population\n",
    "print(df[['Year', 'Population']])"
   ]
  },
  {
   "cell_type": "code",
   "execution_count": 42,
   "metadata": {},
   "outputs": [
    {
     "name": "stdout",
     "output_type": "stream",
     "text": [
      "1    324697795\n",
      "Name: Population, dtype: int64\n"
     ]
    }
   ],
   "source": [
    "# printing population from 2019\n",
    "print (df.loc[df.Year == '2019', 'Population'])"
   ]
  }
 ],
 "metadata": {
  "kernelspec": {
   "display_name": "Python 3.9.7 ('base')",
   "language": "python",
   "name": "python3"
  },
  "language_info": {
   "codemirror_mode": {
    "name": "ipython",
    "version": 3
   },
   "file_extension": ".py",
   "mimetype": "text/x-python",
   "name": "python",
   "nbconvert_exporter": "python",
   "pygments_lexer": "ipython3",
   "version": "3.9.7"
  },
  "orig_nbformat": 4,
  "vscode": {
   "interpreter": {
    "hash": "585a938ec471c889bf0cce0aed741a99eaf47ca09c0fa8393793bc5bfe77ba11"
   }
  }
 },
 "nbformat": 4,
 "nbformat_minor": 2
}
